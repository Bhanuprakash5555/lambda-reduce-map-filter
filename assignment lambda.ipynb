{
 "cells": [
  {
   "cell_type": "code",
   "execution_count": null,
   "id": "50c704ce-5a59-46f7-80b9-73714f808c99",
   "metadata": {},
   "outputs": [],
   "source": [
    "\"\"\"Q1. Create a python program to sort the given list of tuples based on integer value using a\n",
    "lambda function.\n",
    "[('Sachin Tendulkar', 34357), ('Ricky Ponting', 27483), ('Jack Kallis', 25534), ('Virat Kohli', 24936)]\"\"\""
   ]
  },
  {
   "cell_type": "code",
   "execution_count": null,
   "id": "7d798899-3d01-48f1-bd51-7f1b4bb78886",
   "metadata": {},
   "outputs": [],
   "source": [
    "#1ans)"
   ]
  },
  {
   "cell_type": "code",
   "execution_count": 37,
   "id": "ce4d8c44-6492-48c3-9213-0bbe9fe9537a",
   "metadata": {},
   "outputs": [],
   "source": [
    "l9=[('Sachin Tendulkar', 34357), ('Ricky Ponting', 27483), ('Jack Kallis', 25534), ('Virat Kohli', 24936)]"
   ]
  },
  {
   "cell_type": "code",
   "execution_count": 35,
   "id": "0971a7ea-258a-4c25-86d2-d319fe865f94",
   "metadata": {},
   "outputs": [],
   "source": [
    "tuple(map( lambda x,y:x<y,l9))"
   ]
  },
  {
   "cell_type": "code",
   "execution_count": null,
   "id": "dea7f068-ba78-4a53-930a-bc260ead667c",
   "metadata": {},
   "outputs": [],
   "source": [
    "\"\"\"Q2. Write a Python Program to find the squares of all the numbers in the given list of integers using\n",
    "lambda and map functions.\n",
    "[1, 2, 3, 4, 5, 6, 7, 8, 9, 10]\"\"\""
   ]
  },
  {
   "cell_type": "code",
   "execution_count": null,
   "id": "c960e326-ff85-4b44-a641-e74c09676a34",
   "metadata": {},
   "outputs": [],
   "source": [
    "#2ans)"
   ]
  },
  {
   "cell_type": "code",
   "execution_count": 2,
   "id": "571bceca-c7b8-4189-a693-8450c2c02f57",
   "metadata": {},
   "outputs": [],
   "source": [
    "l=[1, 2, 3, 4, 5, 6, 7, 8, 9, 10]"
   ]
  },
  {
   "cell_type": "code",
   "execution_count": 5,
   "id": "94dbc88d-f476-4c89-8942-90eeec0c72d1",
   "metadata": {},
   "outputs": [
    {
     "data": {
      "text/plain": [
       "[1, 4, 9, 16, 25, 36, 49, 64, 81, 100]"
      ]
     },
     "execution_count": 5,
     "metadata": {},
     "output_type": "execute_result"
    }
   ],
   "source": [
    " list(map(lambda x:x**2,l))"
   ]
  },
  {
   "cell_type": "code",
   "execution_count": null,
   "id": "b8ab2170-4418-498d-acab-332f424d03d5",
   "metadata": {},
   "outputs": [],
   "source": [
    "\"\"\"Q3. Write a python program to convert the given list of integers into a tuple of strings. Use map and\n",
    "lambda functions\n",
    "Given String: [1, 2, 3, 4, 5, 6, 7, 8, 9, 10]\"\"\""
   ]
  },
  {
   "cell_type": "code",
   "execution_count": null,
   "id": "ab2ef279-3500-47f2-8af6-e08754d01f07",
   "metadata": {},
   "outputs": [],
   "source": [
    "#3ans)"
   ]
  },
  {
   "cell_type": "code",
   "execution_count": 7,
   "id": "1b4c106a-687c-4dfe-9a32-45f8c57e4b39",
   "metadata": {},
   "outputs": [],
   "source": [
    "l1=[1, 2, 3, 4, 5, 6, 7, 8, 9, 10]"
   ]
  },
  {
   "cell_type": "code",
   "execution_count": 8,
   "id": "b2b1e39c-7ae4-4c3b-befc-703746da8559",
   "metadata": {},
   "outputs": [
    {
     "data": {
      "text/plain": [
       "(1, 2, 3, 4, 5, 6, 7, 8, 9, 10)"
      ]
     },
     "execution_count": 8,
     "metadata": {},
     "output_type": "execute_result"
    }
   ],
   "source": [
    "tuple(map(lambda x:x,l1))"
   ]
  },
  {
   "cell_type": "code",
   "execution_count": null,
   "id": "46484592-2844-4a3e-aba3-df534d47595c",
   "metadata": {},
   "outputs": [],
   "source": [
    "\"\"\"Q4. Write a python program using reduce function to compute the product of a list containing numbers\n",
    "from 1 to 25.\"\"\""
   ]
  },
  {
   "cell_type": "code",
   "execution_count": null,
   "id": "5194b839-3b37-4e57-9d16-4f397d8a39f4",
   "metadata": {},
   "outputs": [],
   "source": [
    "#4ans)"
   ]
  },
  {
   "cell_type": "code",
   "execution_count": 11,
   "id": "b3ee174f-40f8-48d4-bbf6-620b6a65769b",
   "metadata": {},
   "outputs": [],
   "source": [
    "l3=[1,2,3,4,5,6,7,8,9,10,11,12,13,14,15,16,17,18,19,20,21,22,23,24,25]"
   ]
  },
  {
   "cell_type": "code",
   "execution_count": 12,
   "id": "814d1441-8516-44a9-9c45-fa37e80650df",
   "metadata": {},
   "outputs": [
    {
     "data": {
      "text/plain": [
       "15511210043330985984000000"
      ]
     },
     "execution_count": 12,
     "metadata": {},
     "output_type": "execute_result"
    }
   ],
   "source": [
    "from functools import reduce\n",
    "reduce(lambda x,y:x*y,l3)"
   ]
  },
  {
   "cell_type": "code",
   "execution_count": null,
   "id": "7f221c8b-3946-4bf5-b74a-0af1454925ed",
   "metadata": {},
   "outputs": [],
   "source": [
    "\"\"\"Q5. Write a python program to filter the numbers in a given list that are divisible by 2 and 3 using the\n",
    "filter function.\n",
    "[2, 3, 6, 9, 27, 60, 90, 120, 55, 46]\"\"\""
   ]
  },
  {
   "cell_type": "code",
   "execution_count": null,
   "id": "4a24a293-317a-4f9c-81cb-4d8fd6a957a2",
   "metadata": {},
   "outputs": [],
   "source": [
    "#5ans)"
   ]
  },
  {
   "cell_type": "code",
   "execution_count": 22,
   "id": "4beaf0db-6a37-49b5-b4ba-01f8858144e1",
   "metadata": {},
   "outputs": [],
   "source": [
    "l4=[2, 3, 6, 9, 27, 60, 90, 120, 55, 46]"
   ]
  },
  {
   "cell_type": "code",
   "execution_count": 23,
   "id": "5fa95130-cc2d-47ca-83df-5bfbc0de5625",
   "metadata": {},
   "outputs": [
    {
     "data": {
      "text/plain": [
       "[2, 6, 60, 90, 120, 46]"
      ]
     },
     "execution_count": 23,
     "metadata": {},
     "output_type": "execute_result"
    }
   ],
   "source": [
    "list(filter(lambda x:x%2==0,l4))"
   ]
  }
 ],
 "metadata": {
  "kernelspec": {
   "display_name": "Python 3 (ipykernel)",
   "language": "python",
   "name": "python3"
  },
  "language_info": {
   "codemirror_mode": {
    "name": "ipython",
    "version": 3
   },
   "file_extension": ".py",
   "mimetype": "text/x-python",
   "name": "python",
   "nbconvert_exporter": "python",
   "pygments_lexer": "ipython3",
   "version": "3.10.8"
  }
 },
 "nbformat": 4,
 "nbformat_minor": 5
}
